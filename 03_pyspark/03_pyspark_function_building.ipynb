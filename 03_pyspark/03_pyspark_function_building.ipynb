{
 "cells": [
  {
   "cell_type": "markdown",
   "metadata": {},
   "source": [
    "# Developing Bayes Model on Apache Spark"
   ]
  },
  {
   "cell_type": "code",
   "execution_count": 40,
   "metadata": {},
   "outputs": [],
   "source": [
    "import pandas as pd\n",
    "import json\n",
    "from sqlalchemy import create_engine\n",
    "\n",
    "from pyspark.sql import SparkSession\n",
    "\n",
    "import numpy as np\n",
    "import seaborn as sns"
   ]
  },
  {
   "cell_type": "code",
   "execution_count": 1,
   "metadata": {},
   "outputs": [
    {
     "name": "stderr",
     "output_type": "stream",
     "text": [
      "24/01/09 09:32:35 WARN Utils: Your hostname, Taufiqurs-MacBook-Pro.local resolves to a loopback address: 127.0.0.1; using 192.168.100.33 instead (on interface en0)\n",
      "24/01/09 09:32:35 WARN Utils: Set SPARK_LOCAL_IP if you need to bind to another address\n",
      "Setting default log level to \"WARN\".\n",
      "To adjust logging level use sc.setLogLevel(newLevel). For SparkR, use setLogLevel(newLevel).\n",
      "24/01/09 09:32:36 WARN NativeCodeLoader: Unable to load native-hadoop library for your platform... using builtin-java classes where applicable\n"
     ]
    }
   ],
   "source": [
    "import pandas as pd\n",
    "import json\n",
    "from sqlalchemy import create_engine\n",
    "\n",
    "from pyspark.sql import SparkSession\n",
    "\n",
    "# create SparkSession\n",
    "# in config, add \"spark.driver.extraClassPath\" to specify additional jar postgresql-42.7.1.jar\n",
    "# specify the driver path for jar_driver_path variable\n",
    "\n",
    "jar_driver_path = \"/Users/taufiqurrohman/Documents/ds_deploy_gcp/03_pyspark/cache/postgresql-42.7.1.jar\"\n",
    "\n",
    "spark = SparkSession \\\n",
    "    .builder \\\n",
    "    .config(\"spark.driver.extraClassPath\", jar_driver_path) \\\n",
    "    .appName(\"Bayes classification using Spark\") \\\n",
    "    .getOrCreate()\n",
    "\n",
    "with open('cache/pass_conn_postgres.json') as json_file:\n",
    "    postgres_prof = json.load(json_file)\n",
    "\n",
    "conn_params = {\n",
    "    'host': '127.0.0.1',                    # local host\n",
    "    'database': 'learn_ds_deploy_gcp',      # database name, we want to save it to learn_ds_deploy_gcp\n",
    "    'user': postgres_prof['user'],          # user\n",
    "    'password': postgres_prof['password']   # password\n",
    "}\n",
    "\n",
    "table_name_flights = 'ex3_raw_flights_to2023'\n",
    "table_name_traindays = 'ex3_trainday'\n",
    "\n",
    "jdbc_url = f\"jdbc:postgresql://localhost:5432/{conn_params['database']}\"\n",
    "\n",
    "# load flights data and traindays (training records) from postgresql database\n",
    "# and create a temporary view so we can employ SQL on the dataframe\n",
    "\n",
    "flights = spark.read \\\n",
    "    .format(\"jdbc\") \\\n",
    "    .option(\"driver\", \"org.postgresql.Driver\") \\\n",
    "    .option(\"url\", jdbc_url) \\\n",
    "    .option(\"dbtable\", table_name_flights) \\\n",
    "    .option(\"user\", postgres_prof['user']) \\\n",
    "    .option(\"password\", postgres_prof['password']) \\\n",
    "    .load()\n",
    "\n",
    "flights.createOrReplaceTempView('flights')\n",
    "\n",
    "traindays = spark.read \\\n",
    "    .format(\"jdbc\") \\\n",
    "    .option(\"driver\", \"org.postgresql.Driver\")  \\\n",
    "    .option(\"url\", jdbc_url) \\\n",
    "    .option(\"dbtable\", table_name_traindays) \\\n",
    "    .option(\"user\", postgres_prof['user']) \\\n",
    "    .option(\"password\", postgres_prof['password']) \\\n",
    "    .load()\n",
    "\n",
    "traindays.createOrReplaceTempView('traindays')"
   ]
  },
  {
   "cell_type": "markdown",
   "metadata": {},
   "source": [
    "### Q1: Show records with delay > -20 and distance < 2000\n",
    "\n",
    "Employing Spark SQL to do queries on the temporary view."
   ]
  },
  {
   "cell_type": "code",
   "execution_count": 2,
   "metadata": {},
   "outputs": [
    {
     "name": "stderr",
     "output_type": "stream",
     "text": [
      "                                                                                \r"
     ]
    },
    {
     "name": "stdout",
     "output_type": "stream",
     "text": [
      "+-------------------+--------------+---------------------+------+-------------------+----+------------+--------+---------+--------+----------+---------+-------+------------+--------+---------+---------+--------+--------+\n",
      "|            FL_DATE|UNIQUE_CARRIER|ORIGIN_AIRPORT_SEQ_ID|ORIGIN|DEST_AIRPORT_SEQ_ID|DEST|CRS_DEP_TIME|DEP_TIME|DEP_DELAY|TAXI_OUT|WHEELS_OFF|WHEELS_ON|TAXI_IN|CRS_ARR_TIME|ARR_TIME|ARR_DELAY|CANCELLED|DIVERTED|DISTANCE|\n",
      "+-------------------+--------------+---------------------+------+-------------------+----+------------+--------+---------+--------+----------+---------+-------+------------+--------+---------+---------+--------+--------+\n",
      "|2023-01-02 00:00:00|            9E|              1052907|   BDL|            1295304| LGA|        0800|    0757|     -3.0|    11.0|      0808|     0833|   20.0|        0905|    0853|    -12.0|      0.0|     0.0|   101.0|\n",
      "|2023-01-03 00:00:00|            9E|              1052907|   BDL|            1295304| LGA|        0800|    0755|     -5.0|    19.0|      0814|     0851|    6.0|        0905|    0857|     -8.0|      0.0|     0.0|   101.0|\n",
      "|2023-01-04 00:00:00|            9E|              1052907|   BDL|            1295304| LGA|        0800|    0755|     -5.0|    14.0|      0809|     0837|    7.0|        0905|    0844|    -21.0|      0.0|     0.0|   101.0|\n",
      "|2023-01-05 00:00:00|            9E|              1052907|   BDL|            1295304| LGA|        0800|    0754|     -6.0|    13.0|      0807|     0845|    3.0|        0905|    0848|    -17.0|      0.0|     0.0|   101.0|\n",
      "|2023-01-06 00:00:00|            9E|              1052907|   BDL|            1295304| LGA|        0800|    0759|     -1.0|    17.0|      0816|     0844|    5.0|        0905|    0849|    -16.0|      0.0|     0.0|   101.0|\n",
      "+-------------------+--------------+---------------------+------+-------------------+----+------------+--------+---------+--------+----------+---------+-------+------------+--------+---------+---------+--------+--------+\n",
      "\n"
     ]
    }
   ],
   "source": [
    "query = '''\n",
    "    SELECT\n",
    "        *\n",
    "    FROM\n",
    "        flights\n",
    "    WHERE\n",
    "        dep_delay > -20 AND distance < 2000\n",
    "    LIMIT\n",
    "        5\n",
    "'''\n",
    "\n",
    "result = spark.sql(query)\n",
    "result.show()"
   ]
  },
  {
   "cell_type": "markdown",
   "metadata": {},
   "source": [
    "### Q2: Check the traindays dataframe"
   ]
  },
  {
   "cell_type": "code",
   "execution_count": 3,
   "metadata": {},
   "outputs": [
    {
     "name": "stdout",
     "output_type": "stream",
     "text": [
      "+-------------------+------------+\n",
      "|            FL_DATE|is_train_day|\n",
      "+-------------------+------------+\n",
      "|2023-01-01 00:00:00|       False|\n",
      "|2023-01-02 00:00:00|        True|\n",
      "|2023-01-03 00:00:00|        True|\n",
      "|2023-01-04 00:00:00|       False|\n",
      "|2023-01-05 00:00:00|        True|\n",
      "+-------------------+------------+\n",
      "\n"
     ]
    }
   ],
   "source": [
    "query = '''\n",
    "    SELECT\n",
    "        *\n",
    "    FROM\n",
    "        traindays\n",
    "    LIMIT\n",
    "        5\n",
    "'''\n",
    "\n",
    "result = spark.sql(query)\n",
    "result.show()"
   ]
  },
  {
   "cell_type": "markdown",
   "metadata": {},
   "source": [
    "### Q3: Make the flights dataframe only contain data for training (traindays)"
   ]
  },
  {
   "cell_type": "code",
   "execution_count": 27,
   "metadata": {},
   "outputs": [],
   "source": [
    "query = '''\n",
    "    SELECT\n",
    "        f.FL_DATE AS date,\n",
    "        f.DISTANCE AS distance,\n",
    "        f.DEP_DELAY AS dep_delay,\n",
    "        f.ARR_DELAY AS arr_delay,\n",
    "        IF(f.ARR_DELAY < 15, 1, 0) AS ontime\n",
    "    FROM\n",
    "        flights AS f\n",
    "    JOIN\n",
    "        traindays AS t\n",
    "    ON\n",
    "        f.FL_DATE == t.FL_DATE\n",
    "    WHERE\n",
    "        t.is_train_day == TRUE AND f.DEP_DELAY IS NOT NULL\n",
    "    ORDER BY\n",
    "        f.DEP_DELAY DESC\n",
    "'''\n",
    "\n",
    "# execut the query\n",
    "# and save it as a spark dataframe\n",
    "\n",
    "flights = spark.sql(query)     "
   ]
  },
  {
   "cell_type": "code",
   "execution_count": 36,
   "metadata": {},
   "outputs": [
    {
     "name": "stderr",
     "output_type": "stream",
     "text": [
      "                                                                                \r"
     ]
    },
    {
     "data": {
      "text/plain": [
       "[Row(date=datetime.datetime(2023, 1, 24, 0, 0), distance=507.0, dep_delay=3024.0, arr_delay=3063.0, ontime=0),\n",
       " Row(date=datetime.datetime(2023, 1, 26, 0, 0), distance=328.0, dep_delay=2669.0, arr_delay=2687.0, ontime=0),\n",
       " Row(date=datetime.datetime(2023, 1, 3, 0, 0), distance=2454.0, dep_delay=2554.0, arr_delay=2557.0, ontime=0),\n",
       " Row(date=datetime.datetime(2023, 1, 27, 0, 0), distance=1231.0, dep_delay=2168.0, arr_delay=None, ontime=0),\n",
       " Row(date=datetime.datetime(2023, 1, 21, 0, 0), distance=1744.0, dep_delay=2130.0, arr_delay=2078.0, ontime=0)]"
      ]
     },
     "metadata": {},
     "output_type": "display_data"
    },
    {
     "name": "stdout",
     "output_type": "stream",
     "text": [
      "373021\n"
     ]
    }
   ],
   "source": [
    "display(flights.head(5))\n",
    "print(flights.count())"
   ]
  },
  {
   "cell_type": "markdown",
   "metadata": {},
   "source": []
  },
  {
   "cell_type": "markdown",
   "metadata": {},
   "source": [
    "## Start the Analysis & Creating the Model"
   ]
  },
  {
   "cell_type": "code",
   "execution_count": 34,
   "metadata": {},
   "outputs": [
    {
     "name": "stderr",
     "output_type": "stream",
     "text": [
      "                                                                                \r"
     ]
    },
    {
     "data": {
      "text/plain": [
       "306322"
      ]
     },
     "execution_count": 34,
     "metadata": {},
     "output_type": "execute_result"
    }
   ],
   "source": [
    "# filtering the data first for a cleaner analysis\n",
    "\n",
    "df = flights[(flights['distance'] < 2000) &\n",
    "             (flights['dep_delay'] > -20) &\n",
    "             (flights['dep_delay'] < 30)]\n",
    "\n",
    "df.count()  # check the length of spark dataframe"
   ]
  },
  {
   "cell_type": "markdown",
   "metadata": {},
   "source": [
    "### Make a jointplot to know the correlation between distance and departure delay"
   ]
  },
  {
   "cell_type": "code",
   "execution_count": 38,
   "metadata": {},
   "outputs": [
    {
     "name": "stderr",
     "output_type": "stream",
     "text": [
      "                                                                                \r"
     ]
    },
    {
     "data": {
      "image/png": "[encoded data removed]",
      "text/plain": [
       "<Figure size 1000x1000 with 3 Axes>"
      ]
     },
     "metadata": {},
     "output_type": "display_data"
    }
   ],
   "source": [
    "import seaborn as sns\n",
    "\n",
    "pdf = df.sample(False, 0.02, 20).toPandas()                             # create a df, as spark df cannot be visualized, using toPandas() method\n",
    "g = sns.jointplot(x=pdf['distance'], y=pdf['dep_delay'], kind='hex',    # build a jointplot based on the df\n",
    "                  height=10, joint_kws={'gridsize':20})"
   ]
  },
  {
   "cell_type": "markdown",
   "metadata": {},
   "source": [
    "### Create bins for the model using bayesian"
   ]
  },
  {
   "cell_type": "code",
   "execution_count": 46,
   "metadata": {},
   "outputs": [
    {
     "name": "stderr",
     "output_type": "stream",
     "text": [
      "                                                                                \r"
     ]
    },
    {
     "name": "stdout",
     "output_type": "stream",
     "text": [
      "bins threshold for distance: [31.0, 358.0, 569.0, 859.0, 1182.0]\n",
      "bins threshold for dep_delay: [-52.0, -7.0, -4.0, 0.0, 11.0]\n"
     ]
    }
   ],
   "source": [
    "# the approxQuantile method is useful for calculating quantiles for spark df\n",
    "\n",
    "distthresh = flights.approxQuantile('distance',                      # params 1: column to make the quantiles\n",
    "                                    list(np.arange(0, 1.0, 0.2)),    # params 2: create quantiles for 0.2, 0.4, 0.6, 0.8\n",
    "                                    0.02                             # params 3: relative error, which controls the accuracy of the approximation\n",
    "                                    )\n",
    "\n",
    "delaythresh = flights.approxQuantile('dep_delay',\n",
    "                                     list(np.arange(0, 1.0, 0.2)),\n",
    "                                     0.02\n",
    "                                     )\n",
    "\n",
    "print('bins threshold for distance:', distthresh)\n",
    "print('bins threshold for dep_delay:', delaythresh)"
   ]
  },
  {
   "cell_type": "code",
   "execution_count": 53,
   "metadata": {},
   "outputs": [
    {
     "name": "stdout",
     "output_type": "stream",
     "text": [
      "0 0 0.804185351270553\n"
     ]
    },
    {
     "name": "stderr",
     "output_type": "stream",
     "text": [
      "/var/folders/vm/yq09zwnn4552bd960_dwt5840000gn/T/ipykernel_40558/4016808302.py:16: FutureWarning: The frame.append method is deprecated and will be removed from pandas in a future version. Use pandas.concat instead.\n",
      "  df = df.append({\n"
     ]
    },
    {
     "name": "stdout",
     "output_type": "stream",
     "text": [
      "0 1 0.785958904109589\n"
     ]
    },
    {
     "name": "stderr",
     "output_type": "stream",
     "text": [
      "/var/folders/vm/yq09zwnn4552bd960_dwt5840000gn/T/ipykernel_40558/4016808302.py:16: FutureWarning: The frame.append method is deprecated and will be removed from pandas in a future version. Use pandas.concat instead.\n",
      "  df = df.append({\n"
     ]
    },
    {
     "name": "stdout",
     "output_type": "stream",
     "text": [
      "0 2 0.7964774951076321\n"
     ]
    },
    {
     "name": "stderr",
     "output_type": "stream",
     "text": [
      "/var/folders/vm/yq09zwnn4552bd960_dwt5840000gn/T/ipykernel_40558/4016808302.py:16: FutureWarning: The frame.append method is deprecated and will be removed from pandas in a future version. Use pandas.concat instead.\n",
      "  df = df.append({\n"
     ]
    },
    {
     "name": "stdout",
     "output_type": "stream",
     "text": [
      "0 3 0.6991701244813278\n"
     ]
    },
    {
     "name": "stderr",
     "output_type": "stream",
     "text": [
      "/var/folders/vm/yq09zwnn4552bd960_dwt5840000gn/T/ipykernel_40558/4016808302.py:16: FutureWarning: The frame.append method is deprecated and will be removed from pandas in a future version. Use pandas.concat instead.\n",
      "  df = df.append({\n"
     ]
    },
    {
     "name": "stdout",
     "output_type": "stream",
     "text": [
      "0 4 0.7168316831683168\n"
     ]
    },
    {
     "name": "stderr",
     "output_type": "stream",
     "text": [
      "/var/folders/vm/yq09zwnn4552bd960_dwt5840000gn/T/ipykernel_40558/4016808302.py:16: FutureWarning: The frame.append method is deprecated and will be removed from pandas in a future version. Use pandas.concat instead.\n",
      "  df = df.append({\n"
     ]
    },
    {
     "name": "stdout",
     "output_type": "stream",
     "text": [
      "0 5 0.6554809843400448\n"
     ]
    },
    {
     "name": "stderr",
     "output_type": "stream",
     "text": [
      "/var/folders/vm/yq09zwnn4552bd960_dwt5840000gn/T/ipykernel_40558/4016808302.py:16: FutureWarning: The frame.append method is deprecated and will be removed from pandas in a future version. Use pandas.concat instead.\n",
      "  df = df.append({\n"
     ]
    },
    {
     "name": "stdout",
     "output_type": "stream",
     "text": [
      "0 6 0.6211031175059952\n"
     ]
    },
    {
     "name": "stderr",
     "output_type": "stream",
     "text": [
      "/var/folders/vm/yq09zwnn4552bd960_dwt5840000gn/T/ipykernel_40558/4016808302.py:16: FutureWarning: The frame.append method is deprecated and will be removed from pandas in a future version. Use pandas.concat instead.\n",
      "  df = df.append({\n"
     ]
    },
    {
     "name": "stdout",
     "output_type": "stream",
     "text": [
      "0 7 0.6425233644859814\n"
     ]
    },
    {
     "name": "stderr",
     "output_type": "stream",
     "text": [
      "/var/folders/vm/yq09zwnn4552bd960_dwt5840000gn/T/ipykernel_40558/4016808302.py:16: FutureWarning: The frame.append method is deprecated and will be removed from pandas in a future version. Use pandas.concat instead.\n",
      "  df = df.append({\n"
     ]
    },
    {
     "name": "stdout",
     "output_type": "stream",
     "text": [
      "0 8 0.5609756097560976\n"
     ]
    },
    {
     "name": "stderr",
     "output_type": "stream",
     "text": [
      "/var/folders/vm/yq09zwnn4552bd960_dwt5840000gn/T/ipykernel_40558/4016808302.py:16: FutureWarning: The frame.append method is deprecated and will be removed from pandas in a future version. Use pandas.concat instead.\n",
      "  df = df.append({\n"
     ]
    },
    {
     "name": "stdout",
     "output_type": "stream",
     "text": [
      "1 0 0.7826825127334465\n"
     ]
    },
    {
     "name": "stderr",
     "output_type": "stream",
     "text": [
      "/var/folders/vm/yq09zwnn4552bd960_dwt5840000gn/T/ipykernel_40558/4016808302.py:16: FutureWarning: The frame.append method is deprecated and will be removed from pandas in a future version. Use pandas.concat instead.\n",
      "  df = df.append({\n"
     ]
    },
    {
     "name": "stdout",
     "output_type": "stream",
     "text": [
      "1 1 0.7948717948717948\n"
     ]
    },
    {
     "name": "stderr",
     "output_type": "stream",
     "text": [
      "/var/folders/vm/yq09zwnn4552bd960_dwt5840000gn/T/ipykernel_40558/4016808302.py:16: FutureWarning: The frame.append method is deprecated and will be removed from pandas in a future version. Use pandas.concat instead.\n",
      "  df = df.append({\n"
     ]
    },
    {
     "name": "stdout",
     "output_type": "stream",
     "text": [
      "1 2 0.798804780876494\n"
     ]
    },
    {
     "name": "stderr",
     "output_type": "stream",
     "text": [
      "/var/folders/vm/yq09zwnn4552bd960_dwt5840000gn/T/ipykernel_40558/4016808302.py:16: FutureWarning: The frame.append method is deprecated and will be removed from pandas in a future version. Use pandas.concat instead.\n",
      "  df = df.append({\n"
     ]
    },
    {
     "name": "stdout",
     "output_type": "stream",
     "text": [
      "1 3 0.7505330490405118\n"
     ]
    },
    {
     "name": "stderr",
     "output_type": "stream",
     "text": [
      "/var/folders/vm/yq09zwnn4552bd960_dwt5840000gn/T/ipykernel_40558/4016808302.py:16: FutureWarning: The frame.append method is deprecated and will be removed from pandas in a future version. Use pandas.concat instead.\n",
      "  df = df.append({\n"
     ]
    },
    {
     "name": "stdout",
     "output_type": "stream",
     "text": [
      "1 4 0.7512315270935961\n"
     ]
    },
    {
     "name": "stderr",
     "output_type": "stream",
     "text": [
      "/var/folders/vm/yq09zwnn4552bd960_dwt5840000gn/T/ipykernel_40558/4016808302.py:16: FutureWarning: The frame.append method is deprecated and will be removed from pandas in a future version. Use pandas.concat instead.\n",
      "  df = df.append({\n"
     ]
    },
    {
     "name": "stdout",
     "output_type": "stream",
     "text": [
      "1 5 0.7437810945273632\n"
     ]
    },
    {
     "name": "stderr",
     "output_type": "stream",
     "text": [
      "/var/folders/vm/yq09zwnn4552bd960_dwt5840000gn/T/ipykernel_40558/4016808302.py:16: FutureWarning: The frame.append method is deprecated and will be removed from pandas in a future version. Use pandas.concat instead.\n",
      "  df = df.append({\n"
     ]
    },
    {
     "name": "stdout",
     "output_type": "stream",
     "text": [
      "1 6 0.6421052631578947\n"
     ]
    },
    {
     "name": "stderr",
     "output_type": "stream",
     "text": [
      "/var/folders/vm/yq09zwnn4552bd960_dwt5840000gn/T/ipykernel_40558/4016808302.py:16: FutureWarning: The frame.append method is deprecated and will be removed from pandas in a future version. Use pandas.concat instead.\n",
      "  df = df.append({\n"
     ]
    },
    {
     "name": "stdout",
     "output_type": "stream",
     "text": [
      "1 7 0.6314363143631436\n"
     ]
    },
    {
     "name": "stderr",
     "output_type": "stream",
     "text": [
      "/var/folders/vm/yq09zwnn4552bd960_dwt5840000gn/T/ipykernel_40558/4016808302.py:16: FutureWarning: The frame.append method is deprecated and will be removed from pandas in a future version. Use pandas.concat instead.\n",
      "  df = df.append({\n"
     ]
    },
    {
     "name": "stdout",
     "output_type": "stream",
     "text": [
      "1 8 0.5626911314984709\n"
     ]
    },
    {
     "name": "stderr",
     "output_type": "stream",
     "text": [
      "/var/folders/vm/yq09zwnn4552bd960_dwt5840000gn/T/ipykernel_40558/4016808302.py:16: FutureWarning: The frame.append method is deprecated and will be removed from pandas in a future version. Use pandas.concat instead.\n",
      "  df = df.append({\n"
     ]
    },
    {
     "name": "stdout",
     "output_type": "stream",
     "text": [
      "2 0 0.8244897959183674\n"
     ]
    },
    {
     "name": "stderr",
     "output_type": "stream",
     "text": [
      "/var/folders/vm/yq09zwnn4552bd960_dwt5840000gn/T/ipykernel_40558/4016808302.py:16: FutureWarning: The frame.append method is deprecated and will be removed from pandas in a future version. Use pandas.concat instead.\n",
      "  df = df.append({\n"
     ]
    },
    {
     "name": "stdout",
     "output_type": "stream",
     "text": [
      "2 1 0.7893982808022922\n"
     ]
    },
    {
     "name": "stderr",
     "output_type": "stream",
     "text": [
      "/var/folders/vm/yq09zwnn4552bd960_dwt5840000gn/T/ipykernel_40558/4016808302.py:16: FutureWarning: The frame.append method is deprecated and will be removed from pandas in a future version. Use pandas.concat instead.\n",
      "  df = df.append({\n"
     ]
    },
    {
     "name": "stdout",
     "output_type": "stream",
     "text": [
      "2 2 0.7984\n"
     ]
    },
    {
     "name": "stderr",
     "output_type": "stream",
     "text": [
      "/var/folders/vm/yq09zwnn4552bd960_dwt5840000gn/T/ipykernel_40558/4016808302.py:16: FutureWarning: The frame.append method is deprecated and will be removed from pandas in a future version. Use pandas.concat instead.\n",
      "  df = df.append({\n"
     ]
    },
    {
     "name": "stdout",
     "output_type": "stream",
     "text": [
      "2 3 0.7598627787307033\n"
     ]
    },
    {
     "name": "stderr",
     "output_type": "stream",
     "text": [
      "/var/folders/vm/yq09zwnn4552bd960_dwt5840000gn/T/ipykernel_40558/4016808302.py:16: FutureWarning: The frame.append method is deprecated and will be removed from pandas in a future version. Use pandas.concat instead.\n",
      "  df = df.append({\n"
     ]
    },
    {
     "name": "stdout",
     "output_type": "stream",
     "text": [
      "2 4 0.6939890710382514\n"
     ]
    },
    {
     "name": "stderr",
     "output_type": "stream",
     "text": [
      "/var/folders/vm/yq09zwnn4552bd960_dwt5840000gn/T/ipykernel_40558/4016808302.py:16: FutureWarning: The frame.append method is deprecated and will be removed from pandas in a future version. Use pandas.concat instead.\n",
      "  df = df.append({\n"
     ]
    },
    {
     "name": "stdout",
     "output_type": "stream",
     "text": [
      "2 5 0.7168316831683168\n"
     ]
    },
    {
     "name": "stderr",
     "output_type": "stream",
     "text": [
      "/var/folders/vm/yq09zwnn4552bd960_dwt5840000gn/T/ipykernel_40558/4016808302.py:16: FutureWarning: The frame.append method is deprecated and will be removed from pandas in a future version. Use pandas.concat instead.\n",
      "  df = df.append({\n"
     ]
    },
    {
     "name": "stdout",
     "output_type": "stream",
     "text": [
      "2 6 0.6941649899396378\n"
     ]
    },
    {
     "name": "stderr",
     "output_type": "stream",
     "text": [
      "/var/folders/vm/yq09zwnn4552bd960_dwt5840000gn/T/ipykernel_40558/4016808302.py:16: FutureWarning: The frame.append method is deprecated and will be removed from pandas in a future version. Use pandas.concat instead.\n",
      "  df = df.append({\n"
     ]
    },
    {
     "name": "stdout",
     "output_type": "stream",
     "text": [
      "2 7 0.6599099099099099\n"
     ]
    },
    {
     "name": "stderr",
     "output_type": "stream",
     "text": [
      "/var/folders/vm/yq09zwnn4552bd960_dwt5840000gn/T/ipykernel_40558/4016808302.py:16: FutureWarning: The frame.append method is deprecated and will be removed from pandas in a future version. Use pandas.concat instead.\n",
      "  df = df.append({\n"
     ]
    },
    {
     "name": "stdout",
     "output_type": "stream",
     "text": [
      "2 8 0.6109839816933639\n"
     ]
    },
    {
     "name": "stderr",
     "output_type": "stream",
     "text": [
      "/var/folders/vm/yq09zwnn4552bd960_dwt5840000gn/T/ipykernel_40558/4016808302.py:16: FutureWarning: The frame.append method is deprecated and will be removed from pandas in a future version. Use pandas.concat instead.\n",
      "  df = df.append({\n"
     ]
    },
    {
     "name": "stdout",
     "output_type": "stream",
     "text": [
      "3 0 0.7864214992927864\n"
     ]
    },
    {
     "name": "stderr",
     "output_type": "stream",
     "text": [
      "/var/folders/vm/yq09zwnn4552bd960_dwt5840000gn/T/ipykernel_40558/4016808302.py:16: FutureWarning: The frame.append method is deprecated and will be removed from pandas in a future version. Use pandas.concat instead.\n",
      "  df = df.append({\n"
     ]
    },
    {
     "name": "stdout",
     "output_type": "stream",
     "text": [
      "3 1 0.7923728813559322\n"
     ]
    },
    {
     "name": "stderr",
     "output_type": "stream",
     "text": [
      "/var/folders/vm/yq09zwnn4552bd960_dwt5840000gn/T/ipykernel_40558/4016808302.py:16: FutureWarning: The frame.append method is deprecated and will be removed from pandas in a future version. Use pandas.concat instead.\n",
      "  df = df.append({\n"
     ]
    },
    {
     "name": "stdout",
     "output_type": "stream",
     "text": [
      "3 2 0.7844408427876823\n"
     ]
    },
    {
     "name": "stderr",
     "output_type": "stream",
     "text": [
      "/var/folders/vm/yq09zwnn4552bd960_dwt5840000gn/T/ipykernel_40558/4016808302.py:16: FutureWarning: The frame.append method is deprecated and will be removed from pandas in a future version. Use pandas.concat instead.\n",
      "  df = df.append({\n"
     ]
    },
    {
     "name": "stdout",
     "output_type": "stream",
     "text": [
      "3 3 0.745\n"
     ]
    },
    {
     "name": "stderr",
     "output_type": "stream",
     "text": [
      "/var/folders/vm/yq09zwnn4552bd960_dwt5840000gn/T/ipykernel_40558/4016808302.py:16: FutureWarning: The frame.append method is deprecated and will be removed from pandas in a future version. Use pandas.concat instead.\n",
      "  df = df.append({\n"
     ]
    },
    {
     "name": "stdout",
     "output_type": "stream",
     "text": [
      "3 4 0.7291311754684838\n"
     ]
    },
    {
     "name": "stderr",
     "output_type": "stream",
     "text": [
      "/var/folders/vm/yq09zwnn4552bd960_dwt5840000gn/T/ipykernel_40558/4016808302.py:16: FutureWarning: The frame.append method is deprecated and will be removed from pandas in a future version. Use pandas.concat instead.\n",
      "  df = df.append({\n"
     ]
    },
    {
     "name": "stdout",
     "output_type": "stream",
     "text": [
      "3 5 0.7145359019264448\n"
     ]
    },
    {
     "name": "stderr",
     "output_type": "stream",
     "text": [
      "/var/folders/vm/yq09zwnn4552bd960_dwt5840000gn/T/ipykernel_40558/4016808302.py:16: FutureWarning: The frame.append method is deprecated and will be removed from pandas in a future version. Use pandas.concat instead.\n",
      "  df = df.append({\n"
     ]
    },
    {
     "name": "stdout",
     "output_type": "stream",
     "text": [
      "3 6 0.6996047430830039\n"
     ]
    },
    {
     "name": "stderr",
     "output_type": "stream",
     "text": [
      "/var/folders/vm/yq09zwnn4552bd960_dwt5840000gn/T/ipykernel_40558/4016808302.py:16: FutureWarning: The frame.append method is deprecated and will be removed from pandas in a future version. Use pandas.concat instead.\n",
      "  df = df.append({\n"
     ]
    },
    {
     "name": "stdout",
     "output_type": "stream",
     "text": [
      "3 7 0.6423529411764706\n"
     ]
    },
    {
     "name": "stderr",
     "output_type": "stream",
     "text": [
      "/var/folders/vm/yq09zwnn4552bd960_dwt5840000gn/T/ipykernel_40558/4016808302.py:16: FutureWarning: The frame.append method is deprecated and will be removed from pandas in a future version. Use pandas.concat instead.\n",
      "  df = df.append({\n"
     ]
    },
    {
     "name": "stdout",
     "output_type": "stream",
     "text": [
      "3 8 0.620137299771167\n"
     ]
    },
    {
     "name": "stderr",
     "output_type": "stream",
     "text": [
      "/var/folders/vm/yq09zwnn4552bd960_dwt5840000gn/T/ipykernel_40558/4016808302.py:16: FutureWarning: The frame.append method is deprecated and will be removed from pandas in a future version. Use pandas.concat instead.\n",
      "  df = df.append({\n"
     ]
    }
   ],
   "source": [
    "import pyspark.sql.functions as F   # import functions, allowing to use spark's built-in functions in the code.\n",
    "\n",
    "delaythresh = range(10, 20)\n",
    "\n",
    "df = pd.DataFrame(columns=['dist_thresh', 'delay_thresh', 'frac_ontime'])\n",
    "\n",
    "for m in range(0, len(distthresh) - 1):\n",
    "    for n in range(0, len(delaythresh) - 1):\n",
    "        bdf = flights[(flights['distance'] >= distthresh[m])\n",
    "             & (flights['distance'] < distthresh[m+1])\n",
    "             & (flights['dep_delay'] >= delaythresh[n])\n",
    "             & (flights['dep_delay'] < delaythresh[n+1])]\n",
    "        \n",
    "        '''\n",
    "        use sum to calculate number of ontime flights\n",
    "        use count to calculate all flights in the data\n",
    "        then divide the two numbers to get the ontime fraction\n",
    "        use \"collect\" method to get all the numbers from spark distributed to the local machine\n",
    "        see the reference below on what it would look like\n",
    "        '''\n",
    "        \n",
    "        ontime_frac = bdf.agg(F.sum('ontime')).collect()[0][0] / bdf.agg(F.count('ontime')).collect()[0][0]\n",
    "        print (m, n, ontime_frac)\n",
    "\n",
    "        # append the result to a dataframe\n",
    "\n",
    "        df = df.append({\n",
    "            'dist_thresh': distthresh[m], \n",
    "            'delay_thresh': delaythresh[n],\n",
    "            'frac_ontime': ontime_frac\n",
    "        }, ignore_index=True)"
   ]
  },
  {
   "cell_type": "code",
   "execution_count": 62,
   "metadata": {},
   "outputs": [
    {
     "name": "stdout",
     "output_type": "stream",
     "text": [
      "sum function: 271\n",
      "count function: 437\n"
     ]
    }
   ],
   "source": [
    "print('sum function:', bdf.agg(F.sum('ontime')).collect()[0][0])\n",
    "print('count function:', bdf.agg(F.count('ontime')).collect()[0][0])"
   ]
  },
  {
   "cell_type": "code",
   "execution_count": 54,
   "metadata": {},
   "outputs": [
    {
     "data": {
      "text/html": [
       "<div>\n",
       "<style scoped>\n",
       "    .dataframe tbody tr th:only-of-type {\n",
       "        vertical-align: middle;\n",
       "    }\n",
       "\n",
       "    .dataframe tbody tr th {\n",
       "        vertical-align: top;\n",
       "    }\n",
       "\n",
       "    .dataframe thead th {\n",
       "        text-align: right;\n",
       "    }\n",
       "</style>\n",
       "<table border=\"1\" class=\"dataframe\">\n",
       "  <thead>\n",
       "    <tr style=\"text-align: right;\">\n",
       "      <th></th>\n",
       "      <th>dist_thresh</th>\n",
       "      <th>delay_thresh</th>\n",
       "      <th>frac_ontime</th>\n",
       "    </tr>\n",
       "  </thead>\n",
       "  <tbody>\n",
       "    <tr>\n",
       "      <th>0</th>\n",
       "      <td>31.0</td>\n",
       "      <td>10.0</td>\n",
       "      <td>0.804185</td>\n",
       "    </tr>\n",
       "    <tr>\n",
       "      <th>1</th>\n",
       "      <td>31.0</td>\n",
       "      <td>11.0</td>\n",
       "      <td>0.785959</td>\n",
       "    </tr>\n",
       "    <tr>\n",
       "      <th>2</th>\n",
       "      <td>31.0</td>\n",
       "      <td>12.0</td>\n",
       "      <td>0.796477</td>\n",
       "    </tr>\n",
       "    <tr>\n",
       "      <th>3</th>\n",
       "      <td>31.0</td>\n",
       "      <td>13.0</td>\n",
       "      <td>0.699170</td>\n",
       "    </tr>\n",
       "    <tr>\n",
       "      <th>4</th>\n",
       "      <td>31.0</td>\n",
       "      <td>14.0</td>\n",
       "      <td>0.716832</td>\n",
       "    </tr>\n",
       "    <tr>\n",
       "      <th>5</th>\n",
       "      <td>31.0</td>\n",
       "      <td>15.0</td>\n",
       "      <td>0.655481</td>\n",
       "    </tr>\n",
       "    <tr>\n",
       "      <th>6</th>\n",
       "      <td>31.0</td>\n",
       "      <td>16.0</td>\n",
       "      <td>0.621103</td>\n",
       "    </tr>\n",
       "    <tr>\n",
       "      <th>7</th>\n",
       "      <td>31.0</td>\n",
       "      <td>17.0</td>\n",
       "      <td>0.642523</td>\n",
       "    </tr>\n",
       "    <tr>\n",
       "      <th>8</th>\n",
       "      <td>31.0</td>\n",
       "      <td>18.0</td>\n",
       "      <td>0.560976</td>\n",
       "    </tr>\n",
       "    <tr>\n",
       "      <th>9</th>\n",
       "      <td>358.0</td>\n",
       "      <td>10.0</td>\n",
       "      <td>0.782683</td>\n",
       "    </tr>\n",
       "    <tr>\n",
       "      <th>10</th>\n",
       "      <td>358.0</td>\n",
       "      <td>11.0</td>\n",
       "      <td>0.794872</td>\n",
       "    </tr>\n",
       "    <tr>\n",
       "      <th>11</th>\n",
       "      <td>358.0</td>\n",
       "      <td>12.0</td>\n",
       "      <td>0.798805</td>\n",
       "    </tr>\n",
       "    <tr>\n",
       "      <th>12</th>\n",
       "      <td>358.0</td>\n",
       "      <td>13.0</td>\n",
       "      <td>0.750533</td>\n",
       "    </tr>\n",
       "    <tr>\n",
       "      <th>13</th>\n",
       "      <td>358.0</td>\n",
       "      <td>14.0</td>\n",
       "      <td>0.751232</td>\n",
       "    </tr>\n",
       "    <tr>\n",
       "      <th>14</th>\n",
       "      <td>358.0</td>\n",
       "      <td>15.0</td>\n",
       "      <td>0.743781</td>\n",
       "    </tr>\n",
       "    <tr>\n",
       "      <th>15</th>\n",
       "      <td>358.0</td>\n",
       "      <td>16.0</td>\n",
       "      <td>0.642105</td>\n",
       "    </tr>\n",
       "    <tr>\n",
       "      <th>16</th>\n",
       "      <td>358.0</td>\n",
       "      <td>17.0</td>\n",
       "      <td>0.631436</td>\n",
       "    </tr>\n",
       "    <tr>\n",
       "      <th>17</th>\n",
       "      <td>358.0</td>\n",
       "      <td>18.0</td>\n",
       "      <td>0.562691</td>\n",
       "    </tr>\n",
       "    <tr>\n",
       "      <th>18</th>\n",
       "      <td>569.0</td>\n",
       "      <td>10.0</td>\n",
       "      <td>0.824490</td>\n",
       "    </tr>\n",
       "    <tr>\n",
       "      <th>19</th>\n",
       "      <td>569.0</td>\n",
       "      <td>11.0</td>\n",
       "      <td>0.789398</td>\n",
       "    </tr>\n",
       "    <tr>\n",
       "      <th>20</th>\n",
       "      <td>569.0</td>\n",
       "      <td>12.0</td>\n",
       "      <td>0.798400</td>\n",
       "    </tr>\n",
       "    <tr>\n",
       "      <th>21</th>\n",
       "      <td>569.0</td>\n",
       "      <td>13.0</td>\n",
       "      <td>0.759863</td>\n",
       "    </tr>\n",
       "    <tr>\n",
       "      <th>22</th>\n",
       "      <td>569.0</td>\n",
       "      <td>14.0</td>\n",
       "      <td>0.693989</td>\n",
       "    </tr>\n",
       "    <tr>\n",
       "      <th>23</th>\n",
       "      <td>569.0</td>\n",
       "      <td>15.0</td>\n",
       "      <td>0.716832</td>\n",
       "    </tr>\n",
       "    <tr>\n",
       "      <th>24</th>\n",
       "      <td>569.0</td>\n",
       "      <td>16.0</td>\n",
       "      <td>0.694165</td>\n",
       "    </tr>\n",
       "    <tr>\n",
       "      <th>25</th>\n",
       "      <td>569.0</td>\n",
       "      <td>17.0</td>\n",
       "      <td>0.659910</td>\n",
       "    </tr>\n",
       "    <tr>\n",
       "      <th>26</th>\n",
       "      <td>569.0</td>\n",
       "      <td>18.0</td>\n",
       "      <td>0.610984</td>\n",
       "    </tr>\n",
       "    <tr>\n",
       "      <th>27</th>\n",
       "      <td>859.0</td>\n",
       "      <td>10.0</td>\n",
       "      <td>0.786421</td>\n",
       "    </tr>\n",
       "    <tr>\n",
       "      <th>28</th>\n",
       "      <td>859.0</td>\n",
       "      <td>11.0</td>\n",
       "      <td>0.792373</td>\n",
       "    </tr>\n",
       "    <tr>\n",
       "      <th>29</th>\n",
       "      <td>859.0</td>\n",
       "      <td>12.0</td>\n",
       "      <td>0.784441</td>\n",
       "    </tr>\n",
       "    <tr>\n",
       "      <th>30</th>\n",
       "      <td>859.0</td>\n",
       "      <td>13.0</td>\n",
       "      <td>0.745000</td>\n",
       "    </tr>\n",
       "    <tr>\n",
       "      <th>31</th>\n",
       "      <td>859.0</td>\n",
       "      <td>14.0</td>\n",
       "      <td>0.729131</td>\n",
       "    </tr>\n",
       "    <tr>\n",
       "      <th>32</th>\n",
       "      <td>859.0</td>\n",
       "      <td>15.0</td>\n",
       "      <td>0.714536</td>\n",
       "    </tr>\n",
       "    <tr>\n",
       "      <th>33</th>\n",
       "      <td>859.0</td>\n",
       "      <td>16.0</td>\n",
       "      <td>0.699605</td>\n",
       "    </tr>\n",
       "    <tr>\n",
       "      <th>34</th>\n",
       "      <td>859.0</td>\n",
       "      <td>17.0</td>\n",
       "      <td>0.642353</td>\n",
       "    </tr>\n",
       "    <tr>\n",
       "      <th>35</th>\n",
       "      <td>859.0</td>\n",
       "      <td>18.0</td>\n",
       "      <td>0.620137</td>\n",
       "    </tr>\n",
       "  </tbody>\n",
       "</table>\n",
       "</div>"
      ],
      "text/plain": [
       "    dist_thresh  delay_thresh  frac_ontime\n",
       "0          31.0          10.0     0.804185\n",
       "1          31.0          11.0     0.785959\n",
       "2          31.0          12.0     0.796477\n",
       "3          31.0          13.0     0.699170\n",
       "4          31.0          14.0     0.716832\n",
       "5          31.0          15.0     0.655481\n",
       "6          31.0          16.0     0.621103\n",
       "7          31.0          17.0     0.642523\n",
       "8          31.0          18.0     0.560976\n",
       "9         358.0          10.0     0.782683\n",
       "10        358.0          11.0     0.794872\n",
       "11        358.0          12.0     0.798805\n",
       "12        358.0          13.0     0.750533\n",
       "13        358.0          14.0     0.751232\n",
       "14        358.0          15.0     0.743781\n",
       "15        358.0          16.0     0.642105\n",
       "16        358.0          17.0     0.631436\n",
       "17        358.0          18.0     0.562691\n",
       "18        569.0          10.0     0.824490\n",
       "19        569.0          11.0     0.789398\n",
       "20        569.0          12.0     0.798400\n",
       "21        569.0          13.0     0.759863\n",
       "22        569.0          14.0     0.693989\n",
       "23        569.0          15.0     0.716832\n",
       "24        569.0          16.0     0.694165\n",
       "25        569.0          17.0     0.659910\n",
       "26        569.0          18.0     0.610984\n",
       "27        859.0          10.0     0.786421\n",
       "28        859.0          11.0     0.792373\n",
       "29        859.0          12.0     0.784441\n",
       "30        859.0          13.0     0.745000\n",
       "31        859.0          14.0     0.729131\n",
       "32        859.0          15.0     0.714536\n",
       "33        859.0          16.0     0.699605\n",
       "34        859.0          17.0     0.642353\n",
       "35        859.0          18.0     0.620137"
      ]
     },
     "execution_count": 54,
     "metadata": {},
     "output_type": "execute_result"
    }
   ],
   "source": [
    "df"
   ]
  },
  {
   "cell_type": "markdown",
   "metadata": {},
   "source": [
    "### Create a score table to make a decision\n",
    "\n",
    "If the departure delay is greater than the threshold corresponding to how far the flight is, then we will cancel the meeting because we expect that the flight will be delayed."
   ]
  },
  {
   "cell_type": "code",
   "execution_count": 63,
   "metadata": {},
   "outputs": [
    {
     "data": {
      "text/html": [
       "<div>\n",
       "<style scoped>\n",
       "    .dataframe tbody tr th:only-of-type {\n",
       "        vertical-align: middle;\n",
       "    }\n",
       "\n",
       "    .dataframe tbody tr th {\n",
       "        vertical-align: top;\n",
       "    }\n",
       "\n",
       "    .dataframe thead th {\n",
       "        text-align: right;\n",
       "    }\n",
       "</style>\n",
       "<table border=\"1\" class=\"dataframe\">\n",
       "  <thead>\n",
       "    <tr style=\"text-align: right;\">\n",
       "      <th></th>\n",
       "      <th>dist_thresh</th>\n",
       "      <th>delay_thresh</th>\n",
       "      <th>frac_ontime</th>\n",
       "      <th>score</th>\n",
       "    </tr>\n",
       "  </thead>\n",
       "  <tbody>\n",
       "    <tr>\n",
       "      <th>3</th>\n",
       "      <td>31.0</td>\n",
       "      <td>13.0</td>\n",
       "      <td>0.699170</td>\n",
       "      <td>0.000830</td>\n",
       "    </tr>\n",
       "    <tr>\n",
       "      <th>14</th>\n",
       "      <td>358.0</td>\n",
       "      <td>15.0</td>\n",
       "      <td>0.743781</td>\n",
       "      <td>0.043781</td>\n",
       "    </tr>\n",
       "    <tr>\n",
       "      <th>24</th>\n",
       "      <td>569.0</td>\n",
       "      <td>16.0</td>\n",
       "      <td>0.694165</td>\n",
       "      <td>0.005835</td>\n",
       "    </tr>\n",
       "    <tr>\n",
       "      <th>33</th>\n",
       "      <td>859.0</td>\n",
       "      <td>16.0</td>\n",
       "      <td>0.699605</td>\n",
       "      <td>0.000395</td>\n",
       "    </tr>\n",
       "  </tbody>\n",
       "</table>\n",
       "</div>"
      ],
      "text/plain": [
       "    dist_thresh  delay_thresh  frac_ontime     score\n",
       "3          31.0          13.0     0.699170  0.000830\n",
       "14        358.0          15.0     0.743781  0.043781\n",
       "24        569.0          16.0     0.694165  0.005835\n",
       "33        859.0          16.0     0.699605  0.000395"
      ]
     },
     "execution_count": 63,
     "metadata": {},
     "output_type": "execute_result"
    }
   ],
   "source": [
    "df['score'] = abs(df['frac_ontime'] - 0.7)\n",
    "bayes = df.sort_values(['score']).groupby('dist_thresh').head(1).sort_values('dist_thresh')\n",
    "bayes"
   ]
  }
 ],
 "metadata": {
  "kernelspec": {
   "display_name": "base",
   "language": "python",
   "name": "python3"
  },
  "language_info": {
   "codemirror_mode": {
    "name": "ipython",
    "version": 3
   },
   "file_extension": ".py",
   "mimetype": "text/x-python",
   "name": "python",
   "nbconvert_exporter": "python",
   "pygments_lexer": "ipython3",
   "version": "3.10.9"
  }
 },
 "nbformat": 4,
 "nbformat_minor": 2
}
