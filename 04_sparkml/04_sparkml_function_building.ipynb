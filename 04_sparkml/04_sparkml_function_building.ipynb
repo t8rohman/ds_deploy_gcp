{
 "cells": [
  {
   "cell_type": "markdown",
   "metadata": {},
   "source": [
    "### Create and configure our spark session"
   ]
  },
  {
   "cell_type": "code",
   "execution_count": null,
   "metadata": {},
   "outputs": [],
   "source": [
    "from pyspark.sql import SparkSession\n",
    "from pyspark import SparkContext\n",
    "\n",
    "# use sparkcontext to indicate the resource of our spark code\n",
    "# define it as \"local\", meaning that we'll use the local machine for our resource\n",
    "\n",
    "jar_driver_path = '/Users/taufiqurrohman/Documents/ds_deploy_gcp/04_sparkml/cache/postgresql-42.7.1.jar'\n",
    "\n",
    "# sparkcontext serves as the entry point for any spark functionalities\n",
    "\n",
    "sc = SparkContext(master='local', \n",
    "                  appName='logistic')\n",
    "\n",
    "spark = SparkSession \\\n",
    "            .builder \\\n",
    "            .config(\"spark.driver.extraClassPath\", jar_driver_path) \\\n",
    "            .appName('Logistic regression w/ Spark ML') \\\n",
    "            .getOrCreate()"
   ]
  },
  {
   "cell_type": "code",
   "execution_count": 56,
   "metadata": {},
   "outputs": [],
   "source": [
    "import json\n",
    "\n",
    "credential_loc = 'cache/credential_postgres.json'\n",
    "\n",
    "with open(credential_loc) as json_file:\n",
    "    postgres_prof = json.load(json_file)\n",
    "\n",
    "conn_params = {\n",
    "        'host': postgres_prof['host'],              # local host\n",
    "        'database': postgres_prof['database'],      # database name, we want to save it to learn_ds_deploy_gcp\n",
    "        'user': postgres_prof['user'],              # user\n",
    "        'password': postgres_prof['password']       # password\n",
    "    }"
   ]
  },
  {
   "cell_type": "markdown",
   "metadata": {},
   "source": [
    "### Load the Data"
   ]
  },
  {
   "cell_type": "code",
   "execution_count": 57,
   "metadata": {},
   "outputs": [],
   "source": [
    "jdbc_url = f\"jdbc:postgresql://localhost:5432/{conn_params['database']}\"\n",
    "table_name_flights = 'ex3_raw_flights_to2023'\n",
    "\n",
    "flights = spark.read \\\n",
    "    .format(\"jdbc\") \\\n",
    "    .option(\"driver\", \"org.postgresql.Driver\") \\\n",
    "    .option(\"url\", jdbc_url) \\\n",
    "    .option(\"dbtable\", table_name_flights) \\\n",
    "    .option(\"user\", postgres_prof['user']) \\\n",
    "    .option(\"password\", postgres_prof['password']) \\\n",
    "    .load()\n",
    "\n",
    "flights.createOrReplaceTempView('flights')"
   ]
  },
  {
   "cell_type": "code",
   "execution_count": 58,
   "metadata": {},
   "outputs": [
    {
     "name": "stdout",
     "output_type": "stream",
     "text": [
      "+-------------------+--------------+---------------------+------+-------------------+----+------------+--------+---------+--------+----------+---------+-------+------------+--------+---------+---------+--------+--------+\n",
      "|            FL_DATE|UNIQUE_CARRIER|ORIGIN_AIRPORT_SEQ_ID|ORIGIN|DEST_AIRPORT_SEQ_ID|DEST|CRS_DEP_TIME|DEP_TIME|DEP_DELAY|TAXI_OUT|WHEELS_OFF|WHEELS_ON|TAXI_IN|CRS_ARR_TIME|ARR_TIME|ARR_DELAY|CANCELLED|DIVERTED|DISTANCE|\n",
      "+-------------------+--------------+---------------------+------+-------------------+----+------------+--------+---------+--------+----------+---------+-------+------------+--------+---------+---------+--------+--------+\n",
      "|2023-01-02 00:00:00|            9E|              1052907|   BDL|            1295304| LGA|        0800|    0757|     -3.0|    11.0|      0808|     0833|   20.0|        0905|    0853|    -12.0|      0.0|     0.0|   101.0|\n",
      "|2023-01-03 00:00:00|            9E|              1052907|   BDL|            1295304| LGA|        0800|    0755|     -5.0|    19.0|      0814|     0851|    6.0|        0905|    0857|     -8.0|      0.0|     0.0|   101.0|\n",
      "|2023-01-04 00:00:00|            9E|              1052907|   BDL|            1295304| LGA|        0800|    0755|     -5.0|    14.0|      0809|     0837|    7.0|        0905|    0844|    -21.0|      0.0|     0.0|   101.0|\n",
      "|2023-01-05 00:00:00|            9E|              1052907|   BDL|            1295304| LGA|        0800|    0754|     -6.0|    13.0|      0807|     0845|    3.0|        0905|    0848|    -17.0|      0.0|     0.0|   101.0|\n",
      "|2023-01-06 00:00:00|            9E|              1052907|   BDL|            1295304| LGA|        0800|    0759|     -1.0|    17.0|      0816|     0844|    5.0|        0905|    0849|    -16.0|      0.0|     0.0|   101.0|\n",
      "+-------------------+--------------+---------------------+------+-------------------+----+------------+--------+---------+--------+----------+---------+-------+------------+--------+---------+---------+--------+--------+\n",
      "only showing top 5 rows\n",
      "\n"
     ]
    },
    {
     "name": "stderr",
     "output_type": "stream",
     "text": [
      "                                                                                \r"
     ]
    }
   ],
   "source": [
    "flights.show(5)"
   ]
  },
  {
   "cell_type": "code",
   "execution_count": 59,
   "metadata": {},
   "outputs": [],
   "source": [
    "jdbc_url = f\"jdbc:postgresql://localhost:5432/{conn_params['database']}\"\n",
    "table_name_traindays = 'ex3_trainday'\n",
    "\n",
    "traindays = spark.read \\\n",
    "        .format(\"jdbc\") \\\n",
    "        .option(\"driver\", \"org.postgresql.Driver\")  \\\n",
    "        .option(\"url\", jdbc_url) \\\n",
    "        .option(\"dbtable\", table_name_traindays) \\\n",
    "        .option(\"user\", postgres_prof['user']) \\\n",
    "        .option(\"password\", postgres_prof['password']) \\\n",
    "        .load()\n",
    "\n",
    "traindays.createOrReplaceTempView('traindays')"
   ]
  },
  {
   "cell_type": "code",
   "execution_count": 60,
   "metadata": {},
   "outputs": [
    {
     "name": "stdout",
     "output_type": "stream",
     "text": [
      "+-------------------+------------+\n",
      "|            FL_DATE|is_train_day|\n",
      "+-------------------+------------+\n",
      "|2023-01-01 00:00:00|        true|\n",
      "|2023-01-02 00:00:00|        true|\n",
      "|2023-01-03 00:00:00|        true|\n",
      "|2023-01-04 00:00:00|       false|\n",
      "|2023-01-05 00:00:00|       false|\n",
      "+-------------------+------------+\n",
      "only showing top 5 rows\n",
      "\n"
     ]
    }
   ],
   "source": [
    "traindays.show(5)"
   ]
  },
  {
   "cell_type": "markdown",
   "metadata": {},
   "source": [
    "### Subset the data for train data and do the transformation"
   ]
  },
  {
   "cell_type": "code",
   "execution_count": 61,
   "metadata": {},
   "outputs": [
    {
     "data": {
      "text/plain": [
       "538837"
      ]
     },
     "execution_count": 61,
     "metadata": {},
     "output_type": "execute_result"
    }
   ],
   "source": [
    "flights.count()"
   ]
  },
  {
   "cell_type": "code",
   "execution_count": 62,
   "metadata": {},
   "outputs": [
    {
     "name": "stderr",
     "output_type": "stream",
     "text": [
      "[Stage 9:>                                                          (0 + 1) / 1]\r"
     ]
    },
    {
     "name": "stdout",
     "output_type": "stream",
     "text": [
      "+-------+------------------+------------------+------------------+-----------------+\n",
      "|summary|         DEP_DELAY|          TAXI_OUT|         ARR_DELAY|         DISTANCE|\n",
      "+-------+------------------+------------------+------------------+-----------------+\n",
      "|  count|            371799|            371799|            371799|           371799|\n",
      "|   mean|11.048327187539504|18.194355014402944|5.7618713337045016| 833.997818713875|\n",
      "| stddev|53.850485575181715| 10.46245055130918|56.397768632897375|602.5116494241315|\n",
      "|    min|             -52.0|               1.0|             -80.0|             31.0|\n",
      "|    max|            3024.0|             222.0|            3063.0|           5095.0|\n",
      "+-------+------------------+------------------+------------------+-----------------+\n",
      "\n"
     ]
    },
    {
     "name": "stderr",
     "output_type": "stream",
     "text": [
      "                                                                                \r"
     ]
    }
   ],
   "source": [
    "query = '''\n",
    "    SELECT\n",
    "        f.DEP_DELAY, \n",
    "        f.TAXI_OUT, \n",
    "        f.ARR_DELAY, \n",
    "        f.DISTANCE\n",
    "    FROM\n",
    "        flights f\n",
    "    JOIN\n",
    "        traindays t\n",
    "    ON\n",
    "        f.FL_DATE == t.FL_DATE\n",
    "    WHERE\n",
    "        t.is_train_day == TRUE AND\n",
    "        f.CANCELLED == 0 AND\n",
    "        f.DIVERTED == 0\n",
    "'''\n",
    "\n",
    "traindata = spark.sql(query)    # execute the query\n",
    "traindata.describe().show()     # print descriptive statistics from train_data"
   ]
  },
  {
   "cell_type": "markdown",
   "metadata": {},
   "source": [
    "### Label the data for y-variable"
   ]
  },
  {
   "cell_type": "code",
   "execution_count": 76,
   "metadata": {},
   "outputs": [],
   "source": [
    "from pyspark.mllib.regression import LabeledPoint   # import the needed library first\n",
    "\n",
    "def feat_tf(data):\n",
    "    '''\n",
    "    creating a LabeledPoint object where the label is a binary value \n",
    "    indicating whether 'ARR_DELAY' is less than 15\n",
    "    '''\n",
    "    label = LabeledPoint(\n",
    "        float(data['ARR_DELAY'] < 15),\n",
    "        [\n",
    "            # list out all the features for the model here \n",
    "            # 'DEP_DELAY', 'TAXI_OUT', and 'DISTANCE'\n",
    "            data['DEP_DELAY'],\n",
    "            data['TAXI_OUT'],\n",
    "            data['DISTANCE']\n",
    "        ]   \n",
    "    )\n",
    "    return label"
   ]
  },
  {
   "cell_type": "code",
   "execution_count": 77,
   "metadata": {},
   "outputs": [
    {
     "data": {
      "text/plain": [
       "PythonRDD[128] at RDD at PythonRDD.scala:53"
      ]
     },
     "execution_count": 77,
     "metadata": {},
     "output_type": "execute_result"
    }
   ],
   "source": [
    "# convert to rdd format first before applying the function\n",
    "# resillient distributed dataframe\n",
    "# before, it was only a spark dataframe, not an rdd\n",
    "\n",
    "traindata_tf = traindata.rdd.map(feat_tf)\n",
    "traindata_tf"
   ]
  },
  {
   "cell_type": "code",
   "execution_count": 78,
   "metadata": {},
   "outputs": [
    {
     "name": "stdout",
     "output_type": "stream",
     "text": [
      "(0.0,[6.0,55.0,144.0])\n",
      "(1.0,[6.0,12.0,529.0])\n",
      "(1.0,[-4.0,26.0,377.0])\n",
      "(1.0,[-2.0,28.0,377.0])\n",
      "(1.0,[-10.0,33.0,220.0])\n",
      "(1.0,[-9.0,21.0,431.0])\n",
      "(1.0,[-5.0,17.0,610.0])\n",
      "(1.0,[-2.0,23.0,610.0])\n",
      "(1.0,[0.0,19.0,596.0])\n",
      "(1.0,[-5.0,21.0,509.0])\n"
     ]
    },
    {
     "name": "stderr",
     "output_type": "stream",
     "text": [
      "                                                                                \r"
     ]
    }
   ],
   "source": [
    "# print some examples to see the output from the to_example transformation\n",
    "# print top 10 points\n",
    "\n",
    "print_examples = traindata_tf.take(10)\n",
    "\n",
    "for example in print_examples:\n",
    "    print(example)"
   ]
  },
  {
   "cell_type": "markdown",
   "metadata": {},
   "source": [
    "### Training the model"
   ]
  },
  {
   "cell_type": "code",
   "execution_count": 66,
   "metadata": {},
   "outputs": [
    {
     "name": "stderr",
     "output_type": "stream",
     "text": [
      "                                                                                \r"
     ]
    },
    {
     "name": "stdout",
     "output_type": "stream",
     "text": [
      "5.402863200790148 [-0.15315411518048033,-0.12550687571641367,7.103066014261215e-05]\n"
     ]
    }
   ],
   "source": [
    "from pyspark.mllib.classification import LogisticRegressionWithLBFGS\n",
    "\n",
    "# train the model using logisticregression\n",
    "# and print the intercept + weights\n",
    "\n",
    "lrmodel = LogisticRegressionWithLBFGS.train(traindata_tf, intercept=True)\n",
    "print(lrmodel.intercept, lrmodel.weights)"
   ]
  },
  {
   "cell_type": "markdown",
   "metadata": {},
   "source": [
    "### Trying out prediction"
   ]
  },
  {
   "cell_type": "code",
   "execution_count": 68,
   "metadata": {},
   "outputs": [
    {
     "data": {
      "text/plain": [
       "1"
      ]
     },
     "execution_count": 68,
     "metadata": {},
     "output_type": "execute_result"
    }
   ],
   "source": [
    "# predict with the specification below\n",
    "\n",
    "pred_delay = 6      # 6 minutes departure delay\n",
    "pred_taxiout = 12   # taxi out time for 12 minutes\n",
    "pred_dist = 594     # flight distance of 594 miles\n",
    "\n",
    "lrmodel.predict([\n",
    "    pred_delay,\n",
    "    pred_taxiout,\n",
    "    pred_dist\n",
    "])"
   ]
  },
  {
   "cell_type": "code",
   "execution_count": 69,
   "metadata": {},
   "outputs": [
    {
     "data": {
      "text/plain": [
       "0.953471664437452"
      ]
     },
     "execution_count": 69,
     "metadata": {},
     "output_type": "execute_result"
    }
   ],
   "source": [
    "# to get the probability instead of label\n",
    "# use clearThreshold \n",
    "# to get it back, use setThreshold\n",
    "# like this >> lrmodel.setThreshold()\n",
    "\n",
    "lrmodel.clearThreshold()\n",
    "lrmodel.predict([\n",
    "    pred_delay,\n",
    "    pred_taxiout,\n",
    "    pred_dist\n",
    "])"
   ]
  },
  {
   "cell_type": "markdown",
   "metadata": {},
   "source": [
    "### Plotting model probablity of on-time arrival based on variables"
   ]
  },
  {
   "cell_type": "code",
   "execution_count": 70,
   "metadata": {},
   "outputs": [
    {
     "data": {
      "text/plain": [
       "[<matplotlib.lines.Line2D at 0x155961ab0>]"
      ]
     },
     "execution_count": 70,
     "metadata": {},
     "output_type": "execute_result"
    },
    {
     "data": {
      "image/png": "[encoded data removed]",
      "text/plain": [
       "<Figure size 640x480 with 1 Axes>"
      ]
     },
     "metadata": {},
     "output_type": "display_data"
    }
   ],
   "source": [
    "import numpy as np\n",
    "import matplotlib.pyplot as plt\n",
    "\n",
    "# assuming that the departure delay is 20 minutes\n",
    "# and taxi-out time is 10 minutes\n",
    "\n",
    "pred_dist = np.arange(10, 2000, 10)\n",
    "prob = [lrmodel.predict([20, 10, d]) for d in pred_dist]\n",
    "plt.plot(pred_dist, prob)"
   ]
  },
  {
   "cell_type": "code",
   "execution_count": 71,
   "metadata": {},
   "outputs": [
    {
     "name": "stderr",
     "output_type": "stream",
     "text": [
      "                                                                                \r"
     ]
    }
   ],
   "source": [
    "# save the model\n",
    "# pass the sparkcontext and the path\n",
    "\n",
    "lrmodel.save(sc, path='model')"
   ]
  },
  {
   "cell_type": "markdown",
   "metadata": {},
   "source": [
    "### Evaluating the model"
   ]
  },
  {
   "cell_type": "code",
   "execution_count": 75,
   "metadata": {},
   "outputs": [
    {
     "name": "stderr",
     "output_type": "stream",
     "text": [
      "                                                                                \r"
     ]
    },
    {
     "data": {
      "text/plain": [
       "155398"
      ]
     },
     "execution_count": 75,
     "metadata": {},
     "output_type": "execute_result"
    }
   ],
   "source": [
    "# load the test data\n",
    "\n",
    "query = '''\n",
    "    SELECT\n",
    "        f.DEP_DELAY, \n",
    "        f.TAXI_OUT, \n",
    "        f.ARR_DELAY, \n",
    "        f.DISTANCE\n",
    "    FROM\n",
    "        flights f\n",
    "    JOIN\n",
    "        traindays t\n",
    "    ON\n",
    "        f.FL_DATE == t.FL_DATE\n",
    "    WHERE\n",
    "        t.is_train_day == FALSE AND\n",
    "        f.CANCELLED == 0 AND\n",
    "        f.DIVERTED == 0\n",
    "'''\n",
    "\n",
    "testdata = spark.sql(query)\n",
    "testdata.count()"
   ]
  },
  {
   "cell_type": "code",
   "execution_count": 90,
   "metadata": {},
   "outputs": [
    {
     "name": "stdout",
     "output_type": "stream",
     "text": [
      "(1.0, 0.9880937206328995)\n",
      "(1.0, 0.988922258452224)\n",
      "(0.0, 8.092485382174859e-15)\n",
      "(1.0, 0.9081540181533158)\n",
      "(1.0, 0.9399941848540777)\n"
     ]
    },
    {
     "name": "stderr",
     "output_type": "stream",
     "text": [
      "                                                                                \r"
     ]
    }
   ],
   "source": [
    "# carry out the same pipeline like before\n",
    "\n",
    "testdata_tf = testdata.rdd.map(feat_tf)\n",
    "labelpred = testdata_tf.map(lambda pred: (pred.label, lrmodel.predict(pred.features)))\n",
    "\n",
    "# print the top 5 elements\n",
    "\n",
    "top_5_elements = labelpred.take(5)\n",
    "\n",
    "for element in top_5_elements:\n",
    "    print(element)"
   ]
  },
  {
   "cell_type": "code",
   "execution_count": 108,
   "metadata": {},
   "outputs": [],
   "source": [
    "threshold = 0.7\n",
    "\n",
    "def eval(labelpred):\n",
    "\n",
    "    # filtering cancel and nocancel \n",
    "\n",
    "    cancel = labelpred.filter(lambda data: data[1] < 0.7)\n",
    "    nocancel = labelpred.filter(lambda data: data[1] >= 0.7)\n",
    "    \n",
    "    # calculate correct cancel and no cancel \n",
    "\n",
    "    corr_cancel = cancel.filter(lambda data: data[0] == int(data[1] >= 0.7)).count()\n",
    "    corr_nocancel = nocancel.filter(lambda data: data[0] == int(data[1] >= 0.7)).count()\n",
    "\n",
    "    cancel_denom = cancel.count()\n",
    "    nocancel_denom = nocancel.count()\n",
    "\n",
    "    # this is just to make sure that the denominator isn't zero\n",
    "    # as numbers cannot be divided by zero\n",
    "\n",
    "    if cancel_denom == 0:\n",
    "        cancel_denom = 1\n",
    "    if nocancel_denom == 0:\n",
    "        nocancel_denom = 1\n",
    "\n",
    "    # pass it into eval dictionary\n",
    "        \n",
    "    eval = {'total_cancel': cancel.count(),\n",
    "            'correct_cancel': float(corr_cancel) / cancel_denom, \n",
    "            'total_noncancel': nocancel.count(), \n",
    "            'correct_noncancel': float(corr_nocancel) / nocancel_denom\n",
    "           }\n",
    "    \n",
    "    return eval"
   ]
  },
  {
   "cell_type": "code",
   "execution_count": 109,
   "metadata": {},
   "outputs": [
    {
     "name": "stderr",
     "output_type": "stream",
     "text": [
      "                                                                                \r"
     ]
    },
    {
     "data": {
      "text/plain": [
       "{'total_cancel': 42093,\n",
       " 'correct_cancel': 0.8416126196754805,\n",
       " 'total_noncancel': 113305,\n",
       " 'correct_noncancel': 0.9530647367724284}"
      ]
     },
     "execution_count": 109,
     "metadata": {},
     "output_type": "execute_result"
    }
   ],
   "source": [
    "eval(labelpred)"
   ]
  },
  {
   "cell_type": "markdown",
   "metadata": {},
   "source": [
    "### Breaking down the code below by printing the output of every steps"
   ]
  },
  {
   "cell_type": "code",
   "execution_count": 102,
   "metadata": {},
   "outputs": [
    {
     "name": "stderr",
     "output_type": "stream",
     "text": [
      "                                                                                \r"
     ]
    },
    {
     "data": {
      "text/plain": [
       "[(0.0, 8.092485382174859e-15),\n",
       " (0.0, 0.012665483546334804),\n",
       " (0.0, 0.09581442607400457),\n",
       " (0.0, 1.0347124120488111e-20),\n",
       " (0.0, 1.1631986693740263e-06)]"
      ]
     },
     "metadata": {},
     "output_type": "display_data"
    },
    {
     "data": {
      "text/plain": [
       "[(1.0, 0.9880937206328995),\n",
       " (1.0, 0.988922258452224),\n",
       " (1.0, 0.9081540181533158),\n",
       " (1.0, 0.9399941848540777),\n",
       " (0.0, 0.955115529607967)]"
      ]
     },
     "metadata": {},
     "output_type": "display_data"
    }
   ],
   "source": [
    "# filter by the threshold that if the prob. prediction < 0.7, cancel\n",
    "# otherwise, carry on with the meeting\n",
    "\n",
    "cancel = labelpred.filter(lambda data: data[1] < 0.7)\n",
    "nocancel = labelpred.filter(lambda data: data[1] >= 0.7)\n",
    "\n",
    "display(cancel.take(5))\n",
    "display(nocancel.take(5))"
   ]
  },
  {
   "cell_type": "code",
   "execution_count": 105,
   "metadata": {},
   "outputs": [
    {
     "name": "stderr",
     "output_type": "stream",
     "text": [
      "                                                                                \r"
     ]
    },
    {
     "data": {
      "text/plain": [
       "35426"
      ]
     },
     "metadata": {},
     "output_type": "display_data"
    },
    {
     "data": {
      "text/plain": [
       "107987"
      ]
     },
     "metadata": {},
     "output_type": "display_data"
    }
   ],
   "source": [
    "# count how many correct and incorrect cancel\n",
    "# by comparing it to the data we have\n",
    "\n",
    "corr_cancel = cancel.filter(lambda data: data[0] == int(data[1] >= 0.7)).count()\n",
    "corr_nocancel = nocancel.filter(lambda data: data[0] == int(data[1] >= 0.7)).count()\n",
    "\n",
    "display(corr_cancel)\n",
    "display(corr_nocancel)"
   ]
  }
 ],
 "metadata": {
  "kernelspec": {
   "display_name": "base",
   "language": "python",
   "name": "python3"
  },
  "language_info": {
   "codemirror_mode": {
    "name": "ipython",
    "version": 3
   },
   "file_extension": ".py",
   "mimetype": "text/x-python",
   "name": "python",
   "nbconvert_exporter": "python",
   "pygments_lexer": "ipython3",
   "version": "3.10.9"
  }
 },
 "nbformat": 4,
 "nbformat_minor": 2
}
